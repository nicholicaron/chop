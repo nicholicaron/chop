{
 "cells": [
  {
   "cell_type": "code",
   "execution_count": 1,
   "id": "68b39f7f-3f70-4ff6-94f4-fd2cb8d634c7",
   "metadata": {},
   "outputs": [],
   "source": [
    "from branch_and_bound import *\n",
    "from pulp import *\n",
    "import numpy as np"
   ]
  },
  {
   "cell_type": "code",
   "execution_count": 2,
   "id": "2186b1c4-3141-4615-a12c-8b6e7b97802f",
   "metadata": {},
   "outputs": [],
   "source": [
    "# Step 1: Define a small TSP instance\n",
    "def create_tsp_instance(n=4):\n",
    "    # np.random.seed(42)  # For reproducibility\n",
    "    coords = np.random.rand(n, 2)  # Random 2D coordinates\n",
    "    dist_matrix = np.zeros((n, n))\n",
    "    for i in range(n):\n",
    "        for j in range(i+1, n):\n",
    "            dist = np.linalg.norm(coords[i] - coords[j])\n",
    "            dist_matrix[i][j] = dist_matrix[j][i] = dist\n",
    "    return dist_matrix.tolist()"
   ]
  },
  {
   "cell_type": "code",
   "execution_count": 3,
   "id": "e5d479cc-795a-471e-a300-cf29d6a6744c",
   "metadata": {},
   "outputs": [
    {
     "name": "stdout",
     "output_type": "stream",
     "text": [
      "Adjacency Matrix:\n",
      "['0.00', '0.50', '0.82', '0.33']\n",
      "['0.50', '0.00', '0.73', '0.73']\n",
      "['0.82', '0.73', '0.00', '0.72']\n",
      "['0.33', '0.73', '0.72', '0.00']\n"
     ]
    }
   ],
   "source": [
    "# Create a small TSP instance\n",
    "adj_matrix = create_tsp_instance(4)\n",
    "print(\"Adjacency Matrix:\")\n",
    "for row in adj_matrix:\n",
    "    print([f\"{x:.2f}\" for x in row])"
   ]
  },
  {
   "cell_type": "code",
   "execution_count": 4,
   "id": "90a35576-0d4c-43ab-992b-bf43890bb394",
   "metadata": {},
   "outputs": [],
   "source": [
    "# Step 2: Create a BranchAndBound object\n",
    "bnb = BranchAndBound(adj_matrix)"
   ]
  },
  {
   "cell_type": "code",
   "execution_count": 5,
   "id": "396d6027-46e7-4266-ac63-25d1745e653b",
   "metadata": {},
   "outputs": [],
   "source": [
    "# Step 3: Set up the root node\n",
    "bnb.setup_root_node()"
   ]
  },
  {
   "cell_type": "code",
   "execution_count": 6,
   "id": "e1951e3c-365e-455e-ad6a-cc53b5197b7d",
   "metadata": {},
   "outputs": [],
   "source": [
    "# Step 4: Solve the TSP instance\n",
    "solution = bnb.solve(time_limit=60)  # Set a 60-second time limit"
   ]
  },
  {
   "cell_type": "code",
   "execution_count": 7,
   "id": "a58d16b9-d3d8-461a-b066-952be28b283a",
   "metadata": {},
   "outputs": [
    {
     "name": "stdout",
     "output_type": "stream",
     "text": [
      "No feasible solution found within the time limit.\n"
     ]
    }
   ],
   "source": [
    "# Step 5: Print the results\n",
    "if solution:\n",
    "    print(\"\\nBest solution found:\")\n",
    "    for var, value in solution.items():\n",
    "        if value > 0:\n",
    "            print(f\"{var} = {value}\")\n",
    "    print(f\"Objective value: {bnb.best_upper_bound:.2f}\")\n",
    "else:\n",
    "    print(\"No feasible solution found within the time limit.\")"
   ]
  },
  {
   "cell_type": "code",
   "execution_count": null,
   "id": "9f1cd55a-8dc8-4e88-a35c-3d47cd36ba7b",
   "metadata": {},
   "outputs": [],
   "source": [
    "# Step 6: Visualize the branch-and-bound tree\n",
    "bnb.visualize_tree()\n",
    "print(\"\\nBranch-and-bound tree visualization saved as 'branch_and_bound_tree.png'\")"
   ]
  }
 ],
 "metadata": {
  "kernelspec": {
   "display_name": "Python 3 (ipykernel)",
   "language": "python",
   "name": "python3"
  },
  "language_info": {
   "codemirror_mode": {
    "name": "ipython",
    "version": 3
   },
   "file_extension": ".py",
   "mimetype": "text/x-python",
   "name": "python",
   "nbconvert_exporter": "python",
   "pygments_lexer": "ipython3",
   "version": "3.12.5"
  }
 },
 "nbformat": 4,
 "nbformat_minor": 5
}
